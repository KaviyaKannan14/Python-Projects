{
 "cells": [
  {
   "cell_type": "markdown",
   "metadata": {},
   "source": [
    "Project Jelly Bellies (Starter)\n"
   ]
  },
  {
   "cell_type": "markdown",
   "metadata": {},
   "source": [
    "- Part A - The Jelly Belly Flavors\n",
    "- Part B - The Jelly Belly Fan Club Members\n",
    "- Part C - The Bean Bags\n",
    "- Part D - The Promo Beans\n",
    "- Part E - All The Beans\n",
    "- Part F - The Trades\n",
    "- Part G - The Recipes\n",
    "- Part H - Initializing Recipe Counts\n",
    "- Part I - Making Recipes\n",
    "- Part J - Display Recipe Counts\n",
    "- Part K - The Final Results\n",
    "\n",
    "\n",
    
   ]
  },
  {
   "cell_type": "markdown",
   "metadata": {},
   "source": [
    "## Part A - The Jelly Belly Flavors\n",
    "Below is a `list` of popular Jelly Belly `flavors`.\n",
    "\n",
    "**Action:** Execute the following code block."
   ]
  },
  {
   "cell_type": "code",
   "execution_count": 22,
   "metadata": {},
   "outputs": [],
   "source": [
    "flavors = [ \"Coconut\", \"Strawberry Cheesecake\", \"Green Apple\", \"Licorice\", \"Kiwi\", \"Berry Blue\", \"Dr. Pepper\", \"Sunkist Orange\", \"Chili Mango\", \"Pomegranate\", \"Sunkist Lime\", \"Caramel Corn\", \"Cappuccino\", \"French Vanilla\", \"Red Apple\", \"Very Cherry\", \"Buttered Popcorn\", \"Lemon Drop\", \"Orange Sherbet\", \"Tutti-Fruitti\", \"Sunkist Lemon\", \"Sunkist Tangerine\", \"Strawberry Daiquiri\", \"Plum\", \"Sizzling Cinnamon\", \"Margarita\", \"A&W Cream Soda\", \"Cotton Candy\", \"Island Punch\", \"Raspberry\", \"Strawberry Jam\", \"Bubble Gum\", \"Lemon Lime\", \"Top Banana\", \"Cinnamon\", \"Peach\", \"Crushed Pineapple\", \"Watermelon\", \"A&W Root Beer\", \"Blueberry\", \"Sunkist Pink Grapefruit\", \"Mango\", \"Pina Colada\", \"Juicy Pear\", \"Mixed Berry Smoothie\", \"Toasted Marshmallow\", \"Chocolate Pudding\", \"Wild Blackberry\", \"Sour Cherry\", \"Cantaloupe\" ]"
   ]
  },
  {
   "cell_type": "markdown",
   "metadata": {},
   "source": [
    "**Actions:**\n",
    "\n",
    "- Sort `flavors` alphabetically by name.\n",
    "- Convert the sorted list `flavors` into a tuple.\n",
    "- Reassign the `tuple` back into the `flavors` variable.\n",
    "- Using a `while` loop along with a counter variable, output each flavor in `flavors` out on a separate line, along with a one-based count.  Example:\n",
    "\n",
    "```\n",
    "1. A&W Cream Soda\n",
    "2. A&W Root Beer\n",
    "...\n",
    "49. Watermelon\n",
    "50. Wild Blackberry\n",
    "```"
   ]
  },
  {
   "cell_type": "code",
   "execution_count": 23,
   "metadata": {},
   "outputs": [
    {
     "name": "stdout",
     "output_type": "stream",
     "text": [
      "1. A&W Cream Soda\n",
      "2. A&W Root Beer\n",
      "3. Berry Blue\n",
      "4. Blueberry\n",
      "5. Bubble Gum\n",
      "6. Buttered Popcorn\n",
      "7. Cantaloupe\n",
      "8. Cappuccino\n",
      "9. Caramel Corn\n",
      "10. Chili Mango\n",
      "11. Chocolate Pudding\n",
      "12. Cinnamon\n",
      "13. Coconut\n",
      "14. Cotton Candy\n",
      "15. Crushed Pineapple\n",
      "16. Dr. Pepper\n",
      "17. French Vanilla\n",
      "18. Green Apple\n",
      "19. Island Punch\n",
      "20. Juicy Pear\n",
      "21. Kiwi\n",
      "22. Lemon Drop\n",
      "23. Lemon Lime\n",
      "24. Licorice\n",
      "25. Mango\n",
      "26. Margarita\n",
      "27. Mixed Berry Smoothie\n",
      "28. Orange Sherbet\n",
      "29. Peach\n",
      "30. Pina Colada\n",
      "31. Plum\n",
      "32. Pomegranate\n",
      "33. Raspberry\n",
      "34. Red Apple\n",
      "35. Sizzling Cinnamon\n",
      "36. Sour Cherry\n",
      "37. Strawberry Cheesecake\n",
      "38. Strawberry Daiquiri\n",
      "39. Strawberry Jam\n",
      "40. Sunkist Lemon\n",
      "41. Sunkist Lime\n",
      "42. Sunkist Orange\n",
      "43. Sunkist Pink Grapefruit\n",
      "44. Sunkist Tangerine\n",
      "45. Toasted Marshmallow\n",
      "46. Top Banana\n",
      "47. Tutti-Fruitti\n",
      "48. Very Cherry\n",
      "49. Watermelon\n",
      "50. Wild Blackberry\n"
     ]
    }
   ],
   "source": [
    "# Your Part A implementation:\n",
    "\n",
    "flavors.sort()\n",
    "flavors = tuple(flavors)\n",
    "\n",
    "i = 1 \n",
    "for flavor in flavors:\n",
    "    print(f\"{i}. {flavor}\")\n",
    "    i += 1"
   ]
  },
  {
   "cell_type": "markdown",
   "metadata": {},
   "source": [
    "## Part B - The Jelly Belly Fan Club Members\n",
    "\n",
    "There are three University of Rochester students in local chapter of the Jelly Belly Fan Club: Clara, Ben, and Alex.\n",
    "\n",
    "They love Jelly Bellies!\n",
    "\n",
    "**Actions:**\n",
    "- Create a `list` named `memberNames` which contains the names \"Clara\", \"Ben\", and \"Alex\", in that order.\n",
    "- Sort `memberNames` alphabetically by name.\n",
    "- Convert the sorted list `memberNames` into a `tuple`.\n",
    "- Reassign the `tuple` back into the `memberNames` variable.\n",
    "- Using a `for` loop, print each name in `memberNames` out on a separate line."
   ]
  },
  {
   "cell_type": "code",
   "execution_count": 24,
   "metadata": {},
   "outputs": [
    {
     "name": "stdout",
     "output_type": "stream",
     "text": [
      "Alex\n",
      "Ben\n",
      "Clara\n"
     ]
    }
   ],
   "source": [
    "# Your Part B implementation: \n",
    "\n",
    "memberNames = [\"Clara\", \"Ben\", \"Alex\"]\n",
    "memberNames.sort()\n",
    "memberNames = tuple(memberNames)\n",
    "for name in memberNames:\n",
    "    print(name)"
   ]
  },
  {
   "cell_type": "markdown",
   "metadata": {},
   "source": [
    "## Part C - The Bean Bags\n",
    "\n",
    "As a club event, the Jelly Belly Fan Club Members went to store, where each member bought an oversized bag of assorted Jelly Belly jelly beans.\n",
    "\n",
    "Jelly Belly corporate quality control tells us that each bag contains between 20-50 beans for each flavor in `flavors`.\n",
    "\n",
    "That's a lot of beans in each bag!"
   ]
  },
  {
   "cell_type": "markdown",
   "metadata": {},
   "source": [
    "**Action:** Create a blank `dictionary` called `beanBags` that will hold all the contents of each bag."
   ]
  },
  {
   "cell_type": "code",
   "execution_count": 25,
   "metadata": {},
   "outputs": [],
   "source": [
    "# Your implementation:\n",
    "\n",
    "beanBags = {}"
   ]
  },
  {
   "cell_type": "markdown",
   "metadata": {},
   "source": [
    "The members returned to their club room to sort and count their beans by flavor.\n",
    "\n",
    "Below are the results.\n",
    "\n",
    "**Action:** Execute the following code block."
   ]
  },
  {
   "cell_type": "code",
   "execution_count": 26,
   "metadata": {},
   "outputs": [],
   "source": [
    "alexBeans = { 'A&W Cream Soda': 24, 'A&W Root Beer': 50, 'Berry Blue': 49, 'Blueberry': 25, 'Bubble Gum': 37, 'Buttered Popcorn': 27, 'Cantaloupe': 25, 'Cappuccino': 36, 'Caramel Corn': 36, 'Chili Mango': 29, 'Chocolate Pudding': 49, 'Cinnamon': 23, 'Coconut': 27, 'Cotton Candy': 25, 'Crushed Pineapple': 21, 'Dr. Pepper': 21, 'French Vanilla': 38, 'Green Apple': 36, 'Island Punch': 31, 'Juicy Pear': 40, 'Kiwi': 38, 'Lemon Drop': 27, 'Lemon Lime': 42, 'Licorice': 30, 'Mango': 41, 'Margarita': 42, 'Mixed Berry Smoothie': 24, 'Orange Sherbet': 20, 'Peach': 43, 'Pina Colada': 33, 'Plum': 20, 'Pomegranate': 35, 'Raspberry': 41, 'Red Apple': 45, 'Sizzling Cinnamon': 29, 'Sour Cherry': 48, 'Strawberry Cheesecake': 40, 'Strawberry Daiquiri': 23, 'Strawberry Jam': 42, 'Sunkist Lemon': 44, 'Sunkist Lime': 26, 'Sunkist Orange': 45, 'Sunkist Pink Grapefruit': 27, 'Sunkist Tangerine': 22, 'Toasted Marshmallow': 42, 'Top Banana': 22, 'Tutti-Fruitti': 30, 'Very Cherry': 28, 'Watermelon': 33, 'Wild Blackberry': 23 }\n",
    "benBeans = { 'A&W Cream Soda': 46, 'A&W Root Beer': 33, 'Berry Blue': 24, 'Blueberry': 44, 'Bubble Gum': 46, 'Buttered Popcorn': 38, 'Cantaloupe': 48, 'Cappuccino': 46, 'Caramel Corn': 39, 'Chili Mango': 41, 'Chocolate Pudding': 29, 'Cinnamon': 26, 'Coconut': 25, 'Cotton Candy': 45, 'Crushed Pineapple': 30, 'Dr. Pepper': 32, 'French Vanilla': 43, 'Green Apple': 20, 'Island Punch': 33, 'Juicy Pear': 20, 'Kiwi': 41, 'Lemon Drop': 26, 'Lemon Lime': 48, 'Licorice': 50, 'Mango': 41, 'Margarita': 37, 'Mixed Berry Smoothie': 42, 'Orange Sherbet': 31, 'Peach': 47, 'Pina Colada': 46, 'Plum': 47, 'Pomegranate': 25, 'Raspberry': 45, 'Red Apple': 37, 'Sizzling Cinnamon': 48, 'Sour Cherry': 40, 'Strawberry Cheesecake': 21, 'Strawberry Daiquiri': 34, 'Strawberry Jam': 32, 'Sunkist Lemon': 20, 'Sunkist Lime': 20, 'Sunkist Orange': 40, 'Sunkist Pink Grapefruit': 32, 'Sunkist Tangerine': 49, 'Toasted Marshmallow': 34, 'Top Banana': 34, 'Tutti-Fruitti': 38, 'Very Cherry': 27, 'Watermelon': 38, 'Wild Blackberry': 31 }\n",
    "claraBeans = { 'A&W Cream Soda': 32, 'A&W Root Beer': 25, 'Berry Blue': 33, 'Blueberry': 27, 'Bubble Gum': 45, 'Buttered Popcorn': 46, 'Cantaloupe': 35, 'Cappuccino': 30, 'Caramel Corn': 43, 'Chili Mango': 40, 'Chocolate Pudding': 34, 'Cinnamon': 32, 'Coconut': 29, 'Cotton Candy': 42, 'Crushed Pineapple': 44, 'Dr. Pepper': 25, 'French Vanilla': 47, 'Green Apple': 45, 'Island Punch': 27, 'Juicy Pear': 30, 'Kiwi': 33, 'Lemon Drop': 21, 'Lemon Lime': 38, 'Licorice': 22, 'Mango': 29, 'Margarita': 27, 'Mixed Berry Smoothie': 48, 'Orange Sherbet': 21, 'Peach': 46, 'Pina Colada': 31, 'Plum': 47, 'Pomegranate': 46, 'Raspberry': 40, 'Red Apple': 32, 'Sizzling Cinnamon': 32, 'Sour Cherry': 28, 'Strawberry Cheesecake': 30, 'Strawberry Daiquiri': 31, 'Strawberry Jam': 47, 'Sunkist Lemon': 47, 'Sunkist Lime': 44, 'Sunkist Orange': 32, 'Sunkist Pink Grapefruit': 49, 'Sunkist Tangerine': 30, 'Toasted Marshmallow': 31, 'Top Banana': 41, 'Tutti-Fruitti': 49, 'Very Cherry': 40, 'Watermelon': 32, 'Wild Blackberry': 30 }"
   ]
  },
  {
   "cell_type": "markdown",
   "metadata": {},
   "source": [
    "**Actions:**\n",
    "\n",
    "- Add Alex's Jelly Belly counts from `alexBeans` to the `beanBags` dictionary, using `Alex` as the key.\n",
    "- Add Ben's Jelly Belly counts from `benBeans` to the `beanBags` dictionary, using `Ben` as the key.\n",
    "- Add Clara's Jelly Belly counts from `claraBeans` to the `beanBags` dictionary, using `Clara` as the key.\n",
    "- From the `beanBags` dictionary, use a `for` loop with both `key` and a `value` iterator variables.\n",
    "- For each member:\n",
    "    1. Print the key (the member's name)\n",
    "    2. Print the value (the member's Jelly Bellies as a dictionary)"
   ]
  },
  {
   "cell_type": "code",
   "execution_count": 27,
   "metadata": {},
   "outputs": [
    {
     "name": "stdout",
     "output_type": "stream",
     "text": [
      "Alex\n",
      "{'A&W Cream Soda': 24, 'A&W Root Beer': 50, 'Berry Blue': 49, 'Blueberry': 25, 'Bubble Gum': 37, 'Buttered Popcorn': 27, 'Cantaloupe': 25, 'Cappuccino': 36, 'Caramel Corn': 36, 'Chili Mango': 29, 'Chocolate Pudding': 49, 'Cinnamon': 23, 'Coconut': 27, 'Cotton Candy': 25, 'Crushed Pineapple': 21, 'Dr. Pepper': 21, 'French Vanilla': 38, 'Green Apple': 36, 'Island Punch': 31, 'Juicy Pear': 40, 'Kiwi': 38, 'Lemon Drop': 27, 'Lemon Lime': 42, 'Licorice': 30, 'Mango': 41, 'Margarita': 42, 'Mixed Berry Smoothie': 24, 'Orange Sherbet': 20, 'Peach': 43, 'Pina Colada': 33, 'Plum': 20, 'Pomegranate': 35, 'Raspberry': 41, 'Red Apple': 45, 'Sizzling Cinnamon': 29, 'Sour Cherry': 48, 'Strawberry Cheesecake': 40, 'Strawberry Daiquiri': 23, 'Strawberry Jam': 42, 'Sunkist Lemon': 44, 'Sunkist Lime': 26, 'Sunkist Orange': 45, 'Sunkist Pink Grapefruit': 27, 'Sunkist Tangerine': 22, 'Toasted Marshmallow': 42, 'Top Banana': 22, 'Tutti-Fruitti': 30, 'Very Cherry': 28, 'Watermelon': 33, 'Wild Blackberry': 23}\n",
      "Ben\n",
      "{'A&W Cream Soda': 46, 'A&W Root Beer': 33, 'Berry Blue': 24, 'Blueberry': 44, 'Bubble Gum': 46, 'Buttered Popcorn': 38, 'Cantaloupe': 48, 'Cappuccino': 46, 'Caramel Corn': 39, 'Chili Mango': 41, 'Chocolate Pudding': 29, 'Cinnamon': 26, 'Coconut': 25, 'Cotton Candy': 45, 'Crushed Pineapple': 30, 'Dr. Pepper': 32, 'French Vanilla': 43, 'Green Apple': 20, 'Island Punch': 33, 'Juicy Pear': 20, 'Kiwi': 41, 'Lemon Drop': 26, 'Lemon Lime': 48, 'Licorice': 50, 'Mango': 41, 'Margarita': 37, 'Mixed Berry Smoothie': 42, 'Orange Sherbet': 31, 'Peach': 47, 'Pina Colada': 46, 'Plum': 47, 'Pomegranate': 25, 'Raspberry': 45, 'Red Apple': 37, 'Sizzling Cinnamon': 48, 'Sour Cherry': 40, 'Strawberry Cheesecake': 21, 'Strawberry Daiquiri': 34, 'Strawberry Jam': 32, 'Sunkist Lemon': 20, 'Sunkist Lime': 20, 'Sunkist Orange': 40, 'Sunkist Pink Grapefruit': 32, 'Sunkist Tangerine': 49, 'Toasted Marshmallow': 34, 'Top Banana': 34, 'Tutti-Fruitti': 38, 'Very Cherry': 27, 'Watermelon': 38, 'Wild Blackberry': 31}\n",
      "Clara\n",
      "{'A&W Cream Soda': 32, 'A&W Root Beer': 25, 'Berry Blue': 33, 'Blueberry': 27, 'Bubble Gum': 45, 'Buttered Popcorn': 46, 'Cantaloupe': 35, 'Cappuccino': 30, 'Caramel Corn': 43, 'Chili Mango': 40, 'Chocolate Pudding': 34, 'Cinnamon': 32, 'Coconut': 29, 'Cotton Candy': 42, 'Crushed Pineapple': 44, 'Dr. Pepper': 25, 'French Vanilla': 47, 'Green Apple': 45, 'Island Punch': 27, 'Juicy Pear': 30, 'Kiwi': 33, 'Lemon Drop': 21, 'Lemon Lime': 38, 'Licorice': 22, 'Mango': 29, 'Margarita': 27, 'Mixed Berry Smoothie': 48, 'Orange Sherbet': 21, 'Peach': 46, 'Pina Colada': 31, 'Plum': 47, 'Pomegranate': 46, 'Raspberry': 40, 'Red Apple': 32, 'Sizzling Cinnamon': 32, 'Sour Cherry': 28, 'Strawberry Cheesecake': 30, 'Strawberry Daiquiri': 31, 'Strawberry Jam': 47, 'Sunkist Lemon': 47, 'Sunkist Lime': 44, 'Sunkist Orange': 32, 'Sunkist Pink Grapefruit': 49, 'Sunkist Tangerine': 30, 'Toasted Marshmallow': 31, 'Top Banana': 41, 'Tutti-Fruitti': 49, 'Very Cherry': 40, 'Watermelon': 32, 'Wild Blackberry': 30}\n"
     ]
    }
   ],
   "source": [
    "# Your implementation:\n",
    "\n",
    "beanBags[\"Alex\"] = alexBeans\n",
    "beanBags[\"Ben\"] = benBeans \n",
    "beanBags[\"Clara\"] = claraBeans\n",
    "\n",
    "for member, beans in beanBags.items():\n",
    "    print(member)\n",
    "    print(beans)\n",
    "    "
   ]
  },
  {
   "cell_type": "markdown",
   "metadata": {},
   "source": [
    "**Action:** \n",
    "\n",
    "- Access and print out the following values:\n",
    "\n",
    "    1. How many \"Bubble Gum\" beans does Alex have?\n",
    "    2. How many *more* \"Watermelon\" beans does Ben have compared to Clara?\n",
    "    3. How many \"Mixed Berry Smoothie\" beans does Clara have?"
   ]
  },
  {
   "cell_type": "code",
   "execution_count": 28,
   "metadata": {},
   "outputs": [
    {
     "name": "stdout",
     "output_type": "stream",
     "text": [
      "37\n",
      "6\n",
      "48\n"
     ]
    }
   ],
   "source": [
    "# Your implementation:\n",
    "\n",
    "print(alexBeans[\"Bubble Gum\"])\n",
    "print(benBeans[\"Watermelon\"] - claraBeans[\"Watermelon\"])  \n",
    "print(claraBeans[\"Mixed Berry Smoothie\"])"
   ]
  },
  {
   "cell_type": "markdown",
   "metadata": {},
   "source": [
    "## Part D - The Promo Beans\n",
    "\n",
    "When checking out at the store, each member received a free, promotional (\"promo\") bag of Jelly Bellies.\n",
    "\n",
    "Each promo bag has exactly 200 beans, and each promo bag has the exact same flavors and flavor quantity of beans.\n",
    "\n",
    "Alex inventoried the flavors in the promo bag, listing each flavor separately.  Below are the results.\n",
    "\n",
    "**Action:** Execute the following code block."
   ]
  },
  {
   "cell_type": "code",
   "execution_count": 29,
   "metadata": {},
   "outputs": [],
   "source": [
    "promoBeans = ('French Vanilla', 'Green Apple', 'Cinnamon', 'Red Apple', 'Sunkist Lime', 'Licorice', 'Blueberry', 'Sunkist Lemon', 'Plum', 'Pina Colada', 'Bubble Gum', 'Strawberry Cheesecake', 'French Vanilla', 'Coconut', 'Licorice', 'Caramel Corn', 'Strawberry Cheesecake', 'Cinnamon', 'Cappuccino', 'Pina Colada', 'French Vanilla', 'Very Cherry', 'Lemon Drop', 'Blueberry', 'Dr. Pepper', 'Watermelon', 'Plum', 'Kiwi', 'Sizzling Cinnamon', 'Pina Colada', 'A&W Root Beer', 'Kiwi', 'A&W Cream Soda', 'Buttered Popcorn', 'Strawberry Cheesecake', 'Peach', 'Sunkist Lemon', 'Blueberry', 'Bubble Gum', 'Blueberry', 'Cinnamon', 'Cappuccino', 'Cotton Candy', 'Berry Blue', 'Tutti-Fruitti', 'Pomegranate', 'Toasted Marshmallow', 'Caramel Corn', 'Watermelon', 'Red Apple', 'Pomegranate', 'Cinnamon', 'Sunkist Lime', 'Cantaloupe', 'Margarita', 'Toasted Marshmallow', 'Sunkist Lime', 'Strawberry Daiquiri', 'Cappuccino', 'A&W Cream Soda', 'Juicy Pear', 'Green Apple', 'Strawberry Cheesecake', 'Red Apple', 'Mango', 'Chili Mango', 'Sizzling Cinnamon', 'Blueberry', 'Chili Mango', 'Plum', 'Cotton Candy', 'Cappuccino', 'Sizzling Cinnamon', 'Caramel Corn', 'Top Banana', 'Sunkist Lime', 'Buttered Popcorn', 'Pina Colada', 'Peach', 'Berry Blue', 'Sunkist Lime', 'Strawberry Jam', 'Berry Blue', 'Licorice', 'A&W Cream Soda', 'Strawberry Jam', 'Tutti-Fruitti', 'Peach', 'Coconut', 'Tutti-Fruitti', 'Mixed Berry Smoothie', 'Watermelon', 'Sunkist Pink Grapefruit', 'Licorice', 'Toasted Marshmallow', 'Coconut', 'Caramel Corn', 'Green Apple', 'Juicy Pear', 'Coconut', 'Island Punch', 'Sizzling Cinnamon', 'Caramel Corn', 'Cantaloupe', 'Berry Blue', 'Lemon Drop', 'Crushed Pineapple', 'Cotton Candy', 'Blueberry', 'Strawberry Daiquiri', 'Strawberry Jam', 'Lemon Drop', 'Caramel Corn', 'Licorice', 'Very Cherry', 'Raspberry', 'Toasted Marshmallow', 'Watermelon', 'Red Apple', 'Toasted Marshmallow', 'Sunkist Pink Grapefruit', 'Strawberry Daiquiri', 'Sour Cherry', 'Red Apple', 'Tutti-Fruitti', 'Mango', 'A&W Cream Soda', 'A&W Cream Soda', 'Dr. Pepper', 'Very Cherry', 'Toasted Marshmallow', 'Blueberry', 'Chocolate Pudding', 'Sunkist Lemon', 'Red Apple', 'A&W Cream Soda', 'Dr. Pepper', 'Pomegranate', 'Watermelon', 'Strawberry Jam', 'Sunkist Lime', 'Plum', 'Top Banana', 'Lemon Lime', 'Very Cherry', 'Wild Blackberry', 'Chocolate Pudding', 'Pomegranate', 'Peach', 'Bubble Gum', 'Coconut', 'Bubble Gum', 'Strawberry Jam', 'Cappuccino', 'Pina Colada', 'Strawberry Jam', 'Cantaloupe', 'Cotton Candy', 'French Vanilla', 'Sunkist Pink Grapefruit', 'Berry Blue', 'Raspberry', 'Berry Blue', 'Caramel Corn', 'A&W Root Beer', 'Kiwi', 'Pina Colada', 'Cotton Candy', 'Red Apple', 'A&W Cream Soda', 'Sizzling Cinnamon', 'Coconut', 'Wild Blackberry', 'A&W Cream Soda', 'Orange Sherbet', 'Sour Cherry', 'Watermelon', 'Caramel Corn', 'Orange Sherbet', 'Green Apple', 'Wild Blackberry', 'Bubble Gum', 'Sunkist Orange', 'Sunkist Pink Grapefruit', 'Tutti-Fruitti', 'Red Apple', 'Lemon Drop', 'Sizzling Cinnamon', 'Strawberry Cheesecake', 'Caramel Corn', 'Sunkist Pink Grapefruit', 'Lemon Lime', 'Green Apple', 'Buttered Popcorn', 'Lemon Lime', 'Juicy Pear', 'Plum', 'Watermelon', 'Sunkist Pink Grapefruit', 'Pomegranate')"
   ]
  },
  {
   "cell_type": "markdown",
   "metadata": {},
   "source": [
    "**Action:** Adjust (increment) each member's bean totals based on their promo bag.\n",
    "\n",
    "Notes/Hints on your adjustment algorithm:\n",
    "- Each item/flavor in the `promoBeans` tuple represents one(1) bean of that flavor.\n",
    "- You may want to use a nested `for` loop.\n",
    "- The first/outer `for` loop iterates over the memberNames.\n",
    "- The second/inner `for` loop iterates over the promoBeans.\n",
    "- Inside the inner loop, add one(1) bean to the current flavor total for the current member."
   ]
  },
  {
   "cell_type": "code",
   "execution_count": 30,
   "metadata": {},
   "outputs": [],
   "source": [
    "# Your implementation:\n",
    "\n",
    "for member in memberNames:\n",
    "    for flavor in promoBeans:\n",
    "        beanBags[member][flavor] += 1\n"
   ]
  },
  {
   "cell_type": "markdown",
   "metadata": {},
   "source": [
    "**Actions:**\n",
    "\n",
    "- Access and print out the following values:\n",
    "\n",
    "    1. Now, how many \"Bubble Gum\" beans does Alex have?\n",
    "    2. Now, how many *more* \"Watermelon\" beans does Ben have compared to Clara?\n",
    "    3. Now, how many \"Mixed Berry Smoothie\" beans does Clara have?"
   ]
  },
  {
   "cell_type": "code",
   "execution_count": 31,
   "metadata": {},
   "outputs": [
    {
     "name": "stdout",
     "output_type": "stream",
     "text": [
      "42\n",
      "6\n",
      "49\n"
     ]
    }
   ],
   "source": [
    "# Your implementation:\n",
    "\n",
    "print(alexBeans[\"Bubble Gum\"])  \n",
    "print(benBeans[\"Watermelon\"] - claraBeans[\"Watermelon\"])\n",
    "print(claraBeans[\"Mixed Berry Smoothie\"])\n"
   ]
  },
  {
   "cell_type": "markdown",
   "metadata": {},
   "source": [
    "## Part E - All The Beans\n",
    "**Actions:**\n",
    "\n",
    "- Using a `for` loop and the `memberNames` list, how many total Lemon Lime beans would the members have if they pooled all their beans together?\n",
    "- **Do not** reference \"Alex\", \"Ben\", or \"Clara\" as a hard-coded string.  There is a more dynamic way to do this using the loop.\n",
    "- You may use a hard-coded string for \"Lemon Lime\".\n",
    "- Store the result in a variable called `totalLemonLimeAllMembers`.\n",
    "- Output `totalLemonLimeAllMembers` to the screen."
   ]
  },
  {
   "cell_type": "code",
   "execution_count": 32,
   "metadata": {},
   "outputs": [
    {
     "name": "stdout",
     "output_type": "stream",
     "text": [
      "137\n"
     ]
    }
   ],
   "source": [
    "# Your implementation:\n",
    "\n",
    "totalLemonLimeAllMembers = 0\n",
    "for member in memberNames:\n",
    "    totalLemonLimeAllMembers += beanBags[member][\"Lemon Lime\"]\n",
    "    \n",
    "print(totalLemonLimeAllMembers)"
   ]
  },
  {
   "cell_type": "markdown",
   "metadata": {},
   "source": [
    "**Action:** If all the members pooled **all** their beans together, how many total beans would they have?\n",
    "\n",
    "- Use a nested `for` loop.\n",
    "- **Do not** reference any member name or flavor with a hard-coded string.\n",
    "- Store your result in `totalBeansAllMembers`.\n",
    "- Output `totalBeansAllMembers` to the screen."
   ]
  },
  {
   "cell_type": "code",
   "execution_count": 33,
   "metadata": {},
   "outputs": [
    {
     "name": "stdout",
     "output_type": "stream",
     "text": [
      "5848\n"
     ]
    }
   ],
   "source": [
    "# Your implementation:\n",
    "\n",
    "totalBeansAllMembers = 0\n",
    "for member in memberNames:\n",
    "    for flavor in flavors:\n",
    "        totalBeansAllMembers += beanBags[member][flavor]\n",
    "        \n",
    "print(totalBeansAllMembers)"
   ]
  },
  {
   "cell_type": "markdown",
   "metadata": {},
   "source": [
    "## Part F - The Trades\n",
    "\n",
    "Alex and Ben like to trade Jelly Bellies so each gets more of their favorite flavors.\n",
    "\n",
    "### The First Trade\n",
    "\n",
    "Alex gives Ben five(5) of his \"Pina Colada\" beans in exchange for five(5) of Ben's \"Margarita\" beans.\n",
    "\n",
    "This is an even trade!\n",
    "\n",
    "**Action:** Adjust the values for both Alex's and Ben's beans due to this trade.\n",
    "\n",
    "- Note: You may use hard-coded string values for list, tuple, or dictionary access."
   ]
  },
  {
   "cell_type": "code",
   "execution_count": 34,
   "metadata": {},
   "outputs": [
    {
     "data": {
      "text/plain": [
       "(34, 57, 48, 33)"
      ]
     },
     "execution_count": 34,
     "metadata": {},
     "output_type": "execute_result"
    }
   ],
   "source": [
    "# Your implementation:\n",
    "\n",
    "beanBags[\"Alex\"][\"Pina Colada\"] = beanBags[\"Alex\"].get(\"Pina Colada\", 0) - 5\n",
    "beanBags[\"Ben\"][\"Margarita\"] = beanBags[\"Ben\"].get(\"Margarita\", 0) - 5\n",
    "\n",
    "beanBags[\"Ben\"][\"Pina Colada\"] = beanBags[\"Ben\"].get(\"Pina Colada\", 0) + 5\n",
    "beanBags[\"Alex\"][\"Margarita\"] = beanBags[\"Alex\"].get(\"Margarita\", 0) + 5\n",
    "\n",
    "beanBags[\"Alex\"][\"Pina Colada\"], beanBags[\"Ben\"][\"Pina Colada\"], beanBags[\"Alex\"][\"Margarita\"], beanBags[\"Ben\"][\"Margarita\"]"
   ]
  },
  {
   "cell_type": "markdown",
   "metadata": {},
   "source": [
    "### The Second Trade\n",
    "Clara also wants to make a trade and get more of her favorite flavors!\n",
    "\n",
    "Clara and Alex swap all their \"A&W Root Beer\" beans.\n",
    "\n",
    "Since Alex has a lot more \"A&W Root Beer\" beans than Clara, to make the trade fair, Clara also gives Alex twenty-five (25) of her \"Chocolate Pudding\" beans.\n",
    "\n",
    "**Action:** Adjust the values for both Clara's and Alex's beans due to this trade.\n",
    "\n",
    "- Note: You may use hard-coded string values for list, tuple, or dictionary access."
   ]
  },
  {
   "cell_type": "code",
   "execution_count": 35,
   "metadata": {},
   "outputs": [],
   "source": [
    "# Your implementation:\n",
    "\n",
    "temp = beanBags[\"Alex\"][\"A&W Root Beer\"]\n",
    "beanBags[\"Alex\"][\"A&W Root Beer\"] = beanBags[\"Clara\"][\"A&W Root Beer\"]\n",
    "beanBags[\"Clara\"][\"A&W Root Beer\"] = temp\n",
    "beanBags[\"Clara\"][\"Chocolate Pudding\"] -= 25\n",
    "beanBags[\"Alex\"][\"Chocolate Pudding\"] += 25"
   ]
  },
  {
   "cell_type": "markdown",
   "metadata": {},
   "source": [
    "### Check on Alex's Beans Post-Trades\n",
    "**Action:** Now that the trades are over, calculate the total number of beans that Alex has in his bag.\n",
    "\n",
    "- Store the value in `totalBeansAlex`.\n",
    "- Output `totalBeansAlex` to the screen.\n",
    "- Note: You may use hard-coded string values for list, tuple, or dictionary access."
   ]
  },
  {
   "cell_type": "code",
   "execution_count": 36,
   "metadata": {},
   "outputs": [
    {
     "name": "stdout",
     "output_type": "stream",
     "text": [
      "1854\n"
     ]
    }
   ],
   "source": [
    "# Your implementation:\n",
    "\n",
    "totalBeansAlex = sum(beanBags[\"Alex\"].values())\n",
    "print(totalBeansAlex) "
   ]
  },
  {
   "cell_type": "markdown",
   "metadata": {},
   "source": [
    "### Display Final Bean Totals\n",
    "\n",
    "**Action:** Create a table showing the counts of each bean flavor for each of the Jelly Belly Fan Club members.\n",
    "\n",
    "- Use the `tabulate` Python package to achieve column-based layout.\n",
    "- Column 1: Flavor (display the flavor name of the bean)\n",
    "- Column 2: Alex (display the number of beans of this flavor belonging to Alex)\n",
    "- Column 3: Ben (display the number of beans of this flavor belonging to Ben)\n",
    "- Column 4: Clara (display the number of beans of this flavor belonging to Clara)\n",
    "- Do not use hard-coded strings for flavor names.\n",
    "- Do not use hard-coded strings for member names."
   ]
  },
  {
   "cell_type": "code",
   "execution_count": 37,
   "metadata": {},
   "outputs": [
    {
     "name": "stdout",
     "output_type": "stream",
     "text": [
      "Flavor                     Alex    Ben    Clara\n",
      "-----------------------  ------  -----  -------\n",
      "A&W Cream Soda               32     54       40\n",
      "A&W Root Beer                27     35       52\n",
      "Berry Blue                   55     30       39\n",
      "Blueberry                    32     51       34\n",
      "Bubble Gum                   42     51       50\n",
      "Buttered Popcorn             30     41       49\n",
      "Cantaloupe                   28     51       38\n",
      "Cappuccino                   41     51       35\n",
      "Caramel Corn                 45     48       52\n",
      "Chili Mango                  31     43       42\n",
      "Chocolate Pudding            76     31       11\n",
      "Cinnamon                     27     30       36\n",
      "Coconut                      33     31       35\n",
      "Cotton Candy                 30     50       47\n",
      "Crushed Pineapple            22     31       45\n",
      "Dr. Pepper                   24     35       28\n",
      "French Vanilla               42     47       51\n",
      "Green Apple                  41     25       50\n",
      "Island Punch                 32     34       28\n",
      "Juicy Pear                   43     23       33\n",
      "Kiwi                         41     44       36\n",
      "Lemon Drop                   31     30       25\n",
      "Lemon Lime                   45     51       41\n",
      "Licorice                     35     55       27\n",
      "Mango                        43     43       31\n",
      "Margarita                    48     33       28\n",
      "Mixed Berry Smoothie         25     43       49\n",
      "Orange Sherbet               22     33       23\n",
      "Peach                        47     51       50\n",
      "Pina Colada                  34     57       37\n",
      "Plum                         25     52       52\n",
      "Pomegranate                  40     30       51\n",
      "Raspberry                    43     47       42\n",
      "Red Apple                    53     45       40\n",
      "Sizzling Cinnamon            35     54       38\n",
      "Sour Cherry                  50     42       30\n",
      "Strawberry Cheesecake        45     26       35\n",
      "Strawberry Daiquiri          26     37       34\n",
      "Strawberry Jam               48     38       53\n",
      "Sunkist Lemon                47     23       50\n",
      "Sunkist Lime                 32     26       50\n",
      "Sunkist Orange               46     41       33\n",
      "Sunkist Pink Grapefruit      33     38       55\n",
      "Sunkist Tangerine            22     49       30\n",
      "Toasted Marshmallow          48     40       37\n",
      "Top Banana                   24     36       43\n",
      "Tutti-Fruitti                35     43       54\n",
      "Very Cherry                  32     31       44\n",
      "Watermelon                   40     45       39\n",
      "Wild Blackberry              26     34       33\n"
     ]
    }
   ],
   "source": [
    "# Your implementation:\n",
    "\n",
    "import tabulate\n",
    "\n",
    "beanData = [[flavor, beanBags[\"Alex\"][flavor], beanBags[\"Ben\"][flavor], beanBags[\"Clara\"][flavor]] for flavor in flavors]\n",
    "\n",
    "print(tabulate.tabulate(beanData, headers=[\"Flavor\", \"Alex\", \"Ben\", \"Clara\"]))"
   ]
  },
  {
   "cell_type": "markdown",
   "metadata": {},
   "source": [
    "## Part G - The Recipes\n",
    "\n",
    "Fans of Jelly Bellies like to combine beans to form more complicated, unique flavors, such as \"Apple Pie\" and \"Banana Split\".\n",
    "\n",
    "These combinations are called \"recipes\" because they often combine multiple beans as \"ingredients\" to form a well-known food flavor.\n",
    "\n",
    "**Action:** Create an empty dictionary called `recipes`."
   ]
  },
  {
   "cell_type": "code",
   "execution_count": 38,
   "metadata": {},
   "outputs": [],
   "source": [
    "# Your implementation:\n",
    "\n",
    "recipes = {}\n"
   ]
  },
  {
   "cell_type": "markdown",
   "metadata": {},
   "source": [
    "A simple recipe, \"Cola\" calls for one(1) \"Lemon Lime\" bean and one(1) \"Cinnamon\" bean.\n",
    "\n",
    "We will add this recipe to `recipes`.  The name of the recipe \"Cola\" is the key and the value is... another dictionary where the key of the latter dictionary is the ingredient flavor and the value is the ingredient quantity.\n",
    "\n",
    "**Action:** Execute the following code:"
   ]
  },
  {
   "cell_type": "code",
   "execution_count": 39,
   "metadata": {},
   "outputs": [],
   "source": [
    "recipes[\"Cola\"] = { \"Lemon Lime\": 1, \"Cinnamon\": 1 }"
   ]
  },
  {
   "cell_type": "markdown",
   "metadata": {},
   "source": [
    "**Actions:** Add the following recipes to `recipes` using the same convention as above:\n",
    "\n",
    "- \"Apple Pie\" is the result of eating 2 \"Green Apple\" beans and 1 \"Cinnamon\" bean.\n",
    "- \"Key Lime Pie\" is the result of eating 1 \"Lemon Lime\" bean and 1 \"Toasted Marshmallow\" bean.\n",
    "- \"Pink Lemonade\" is the result of eating 2 \"Cotton Candy\" beans and 2 \"Sunkist Lemon\" beans.\n",
    "- \"Root Beer Float\" is the result of eating 2 \"A&W Root Beer\" beans and 1 \"A&W Cream Soda\" bean.\n",
    "- \"Cafe Mocha\" is the result of eating 2 \"Cappuccino\" beans, 1 \"Chocolate Pudding\" bean, and 1 \"French Vanilla\" bean.\n",
    "- \"Hot Chocolate\" is the result of eating 1 \"Toasted Marshmallow\" bean and 1 \"Chocolate Pudding\" bean.\n",
    "- \"Chocolate-Dipped Strawberries\" is the result of eating 2 \"Strawberry Daiquiri\" beans and 1 \"Chocolate Pudding\" bean.\n",
    "- \"S'mores\" is the result of eating 1 \"Caramel Corn\" bean, 2 \"Toasted Marshmallow\" beans, and 1 \"Chocolate Pudding\" bean.\n",
    "- \"Banana Split\" is the result of eating 1 \"Top Banana\" bean, 1 \"Chocolate Pudding\" bean, 1 \"Crushed Pineapple\" bean, 1 \"Strawberry Jam\" bean, 1 \"Very Cherry\" bean, and 1 \"French Vanilla\" bean."
   ]
  },
  {
   "cell_type": "code",
   "execution_count": 40,
   "metadata": {},
   "outputs": [],
   "source": [
    "# Your implementation:\n",
    "\n",
    "recipes[\"Apple Pie\"] = { \"Green Apple\": 2, \"Cinnamon\": 1}\n",
    "recipes[\"Key Lime Pie\"] = { \"Lemon Lime\": 1, \"Toasted Marshmallow\": 1 }\n",
    "recipes[\"Pink Lemonade\"] = { \"Cotton Candy\": 2, \"Sunkist Lemon\": 2 }  \n",
    "recipes[\"Root Beer Float\"] = { \"A&W Root Beer\": 2, \"A&W Cream Soda\": 1 }\n",
    "recipes[\"Cafe Mocha\"] = { \"Cappuccino\": 2, \"Chocolate Pudding\": 1, \"French Vanilla\": 1 }\n",
    "recipes[\"Hot Chocolate\"] = { \"Toasted Marshmallow\": 1, \"Chocolate Pudding\": 1 }\n",
    "recipes[\"Chocolate-Dipped Strawberries\"] = { \"Strawberry Daiquiri\": 2 , \"Chocolate Pudding\": 1 }  \n",
    "recipes[\"S'mores\"] = { \"Caramel Corn\": 1, \"Toasted Marshmallow\": 2, \"Chocolate Pudding\": 1 }\n",
    "recipes[\"Banana Split\"] = { \"Top Banana\": 1, \"Chocolate Pudding\": 1, \"Crushed Pineapple\": 1, \"Strawberry Jam\": 1 , \"Very Cherry\": 1, \"French Vanilla\": 1 }\n"
   ]
  },
  {
   "cell_type": "markdown",
   "metadata": {},
   "source": [
    "Sitting around the table, the members have decided to make specific recipes from their beans.\n",
    "\n",
    "They will make the recipes, one at a time, in the following order:\n",
    "\n",
    "1. Key Lime Pie\n",
    "2. Apple Pie\n",
    "3. Cafe Mocha\n",
    "4. Cola\n",
    "5. Hot Chocolate\n",
    "6. Chocolate-Dipped Strawberries\n",
    "7. Pink Lemonade\n",
    "8. Root Beer Float\n",
    "9. Banana Split\n",
    "10. S'mores\n",
    "\n",
    "**Action:** Create a list called `recipeNamesInOrder` to hold the names of these recipes in the order."
   ]
  },
  {
   "cell_type": "code",
   "execution_count": 41,
   "metadata": {},
   "outputs": [],
   "source": [
    "# Your implementation:\n",
    "\n",
    "recipeNamesInOrder = [\"Key Lime Pie\", \"Apple Pie\", \"Cafe Mocha\", \"Cola\", \"Hot Chocolate\", \n",
    "                    \"Chocolate-Dipped Strawberries\", \"Pink Lemonade\", \"Root Beer Float\",  \n",
    "                    \"Banana Split\", \"S'mores\"]"
   ]
  },
  {
   "cell_type": "markdown",
   "metadata": {},
   "source": [
    "## Part H - Initializing Recipe Counts\n",
    "\n",
    "In this part, you will create a complex data structure (a dictionary of dictionaries) to store the number of recipes that each member makes.\n",
    "\n",
    "**Actions:**\n",
    "\n",
    "- Create a dictionary called `recipeCounts`.\n",
    "- Use a combination of loops and existing variables (`memberNames`, `recipeNamesInOrder`, etc.) to dynamically create a dictionary of dictionaries where:\n",
    "    - The keys for the outer dictionary are the member names.\n",
    "    - The keys for the inner dictionary are the recipe names.\n",
    "    - The value for each member and each recipe is initialized to an integer value of zero (0).\n",
    "- Output `recipeCounts` to the screen to verify the data structure, keys, and values."
   ]
  },
  {
   "cell_type": "code",
   "execution_count": 42,
   "metadata": {},
   "outputs": [
    {
     "name": "stdout",
     "output_type": "stream",
     "text": [
      "{'Alex': {'Key Lime Pie': 0, 'Apple Pie': 0, 'Cafe Mocha': 0, 'Cola': 0, 'Hot Chocolate': 0, 'Chocolate-Dipped Strawberries': 0, 'Pink Lemonade': 0, 'Root Beer Float': 0, 'Banana Split': 0, \"S'mores\": 0}, 'Ben': {'Key Lime Pie': 0, 'Apple Pie': 0, 'Cafe Mocha': 0, 'Cola': 0, 'Hot Chocolate': 0, 'Chocolate-Dipped Strawberries': 0, 'Pink Lemonade': 0, 'Root Beer Float': 0, 'Banana Split': 0, \"S'mores\": 0}, 'Clara': {'Key Lime Pie': 0, 'Apple Pie': 0, 'Cafe Mocha': 0, 'Cola': 0, 'Hot Chocolate': 0, 'Chocolate-Dipped Strawberries': 0, 'Pink Lemonade': 0, 'Root Beer Float': 0, 'Banana Split': 0, \"S'mores\": 0}}\n"
     ]
    }
   ],
   "source": [
    "# Your implementation:\n",
    "\n",
    "recipeCounts = {}\n",
    "for member in memberNames:\n",
    "    recipeCounts[member] = {}\n",
    "    for recipe in recipeNamesInOrder:\n",
    "        recipeCounts[member][recipe] = 0\n",
    "        \n",
    "print(recipeCounts)"
   ]
  },
  {
   "cell_type": "markdown",
   "metadata": {},
   "source": [
    "## Part I - Making Recipes\n",
    "\n",
    "In this part, you will have the members \"make\" the recipes and \"eat\" the beans, dynamically.\n",
    "\n",
    "**Action:** Implement the following algorithm:\n",
    "\n",
    "- Iterate over each member\n",
    "- The current member tries to make each recipe, one at a time, in the order specified in `recipeNamesInOrder`.\n",
    "- Each recipe will require the exact ingredient flavors and quantity of beans.\n",
    "- Check if the recipe can be made before the member eats the beans.\n",
    "- If the recipe cannot be made, the member moves on to the next recipe.\n",
    "- Otherwise (if the recipe can be made):\n",
    "    - The recipe count is incremented by 1 for that recipe and that member, and\n",
    "    - The member eats the recipe (all the recipe's beans), so\n",
    "    - The program adjusts (subtracts) the flavor totals in the member's bag of beans accordingly.  You can't reuse an eaten bean!\n",
    "- After the last recipe in the order specified in `recipeNamesInOrder`, if the member has made at least one recipe successfully (any recipe), then repeat the order again from the beginning.\n",
    "- Otherwise (if the member went through the entire order without being able to make a single recipe), then:\n",
    "    - Stop making recipes (because this member cannot make any more recipes of any kind), and\n",
    "    - Move on to the next member (until there are no more members).\n",
    "- When finished, output `recipeCounts` to the screen to verify the data structure, keys, and values."
   ]
  },
  {
   "cell_type": "code",
   "execution_count": 45,
   "metadata": {},
   "outputs": [
    {
     "name": "stdout",
     "output_type": "stream",
     "text": [
      "{'Alex': {'Key Lime Pie': 12, 'Apple Pie': 14, 'Cafe Mocha': 20, 'Cola': 13, 'Hot Chocolate': 12, 'Chocolate-Dipped Strawberries': 13, 'Pink Lemonade': 15, 'Root Beer Float': 13, 'Banana Split': 19, \"S'mores\": 12}, 'Ben': {'Key Lime Pie': 22, 'Apple Pie': 12, 'Cafe Mocha': 7, 'Cola': 18, 'Hot Chocolate': 6, 'Chocolate-Dipped Strawberries': 6, 'Pink Lemonade': 11, 'Root Beer Float': 17, 'Banana Split': 6, \"S'mores\": 6}, 'Clara': {'Key Lime Pie': 23, 'Apple Pie': 18, 'Cafe Mocha': 3, 'Cola': 18, 'Hot Chocolate': 2, 'Chocolate-Dipped Strawberries': 2, 'Pink Lemonade': 23, 'Root Beer Float': 26, 'Banana Split': 2, \"S'mores\": 2}}\n"
     ]
    }
   ],
   "source": [
    "# Your implementation:\n",
    "\n",
    "for member in memberNames:\n",
    "    made_at_least_one_recipe = False\n",
    "    while True:\n",
    "        for recipeName in recipeNamesInOrder:\n",
    "            recipe = recipes[recipeName]\n",
    "            can_make_recipe = all(flavor in beanBags[member] and beanBags[member][flavor] >= count for flavor, count in recipe.items())\n",
    "            if can_make_recipe:\n",
    "                recipeCounts[member][recipeName] += 1\n",
    "                for flavor, count in recipe.items():\n",
    "                    beanBags[member][flavor] -= count\n",
    "                made_at_least_one_recipe = True\n",
    "        if not made_at_least_one_recipe:\n",
    "            break  \n",
    "        made_at_least_one_recipe = False  \n",
    "\n",
    "print(recipeCounts)\n",
    "\n"
   ]
  },
  {
   "cell_type": "markdown",
   "metadata": {},
   "source": [
    "## Part J - Display Recipe Counts\n",
    "\n",
    "**Action:** Create a table showing the counts of each recipe made by each of the Jelly Belly Fan Club members.\n",
    "\n",
    "- Use the `tabulate` Python package to achieve column-based layout.\n",
    "- Column 1: Recipe (display the recipe name)\n",
    "- Column 2: Alex (display the number of recipes made of this recipe by Alex)\n",
    "- Column 3: Ben (display the number of recipes made of this recipe by Ben)\n",
    "- Column 4: Clara (display the number of recipes made of this recipe by Clara)\n",
    "- Do not use hard-coded strings for recipe names.\n",
    "- Do not use hard-coded strings for member names."
   ]
  },
  {
   "cell_type": "code",
   "execution_count": 48,
   "metadata": {},
   "outputs": [
    {
     "name": "stdout",
     "output_type": "stream",
     "text": [
      "+-------------------------------+--------+-------+---------+\n",
      "| Recipe                        |   Alex |   Ben |   Clara |\n",
      "+===============================+========+=======+=========+\n",
      "| Key Lime Pie                  |     12 |    22 |      23 |\n",
      "+-------------------------------+--------+-------+---------+\n",
      "| Apple Pie                     |     14 |    12 |      18 |\n",
      "+-------------------------------+--------+-------+---------+\n",
      "| Cafe Mocha                    |     20 |     7 |       3 |\n",
      "+-------------------------------+--------+-------+---------+\n",
      "| Cola                          |     13 |    18 |      18 |\n",
      "+-------------------------------+--------+-------+---------+\n",
      "| Hot Chocolate                 |     12 |     6 |       2 |\n",
      "+-------------------------------+--------+-------+---------+\n",
      "| Chocolate-Dipped Strawberries |     13 |     6 |       2 |\n",
      "+-------------------------------+--------+-------+---------+\n",
      "| Pink Lemonade                 |     15 |    11 |      23 |\n",
      "+-------------------------------+--------+-------+---------+\n",
      "| Root Beer Float               |     13 |    17 |      26 |\n",
      "+-------------------------------+--------+-------+---------+\n",
      "| Banana Split                  |     19 |     6 |       2 |\n",
      "+-------------------------------+--------+-------+---------+\n",
      "| S'mores                       |     12 |     6 |       2 |\n",
      "+-------------------------------+--------+-------+---------+\n"
     ]
    }
   ],
   "source": [
    "# Your implementation:\n",
    "\n",
    "\n",
    "import tabulate\n",
    "rows = []\n",
    "for recipe in recipeNamesInOrder:\n",
    "\n",
    "    row = [recipe]\n",
    "    \n",
    "    for member in [\"Alex\", \"Ben\", \"Clara\"]:\n",
    "    \n",
    "        row.append(recipeCounts[member].get(recipe, 0))\n",
    "        \n",
    "    rows.append(row)\n",
    "\n",
    "headers = [\"Recipe\", \"Alex\", \"Ben\", \"Clara\"]\n",
    "table = tabulate.tabulate(rows, headers=headers, tablefmt=\"grid\")\n",
    "print(table)\n"
   ]
  },
  {
   "cell_type": "markdown",
   "metadata": {},
   "source": [
    "**Action:** Store the number of \"Root Beer Float\" recipes that Ben made in a variable called `numRootBeerFloats`.\n",
    "\n",
    "- Note: You may use hard-coded string values for list, tuple, or dictionary access."
   ]
  },
  {
   "cell_type": "code",
   "execution_count": 49,
   "metadata": {},
   "outputs": [],
   "source": [
    "# Your implementation:\n",
    "\n",
    "numRootBeerFloats = recipeCounts[\"Ben\"][\"Root Beer Float\"]\n"
   ]
  },
  {
   "cell_type": "markdown",
   "metadata": {},
   "source": [
    "**Action:** Use a loop to dynamically determine which member made the most \"Pink Lemonade\" recipes (and how many).\n",
    "\n",
    "- Store the correct member name value in `pinkLemonadeMaxMemberName`.\n",
    "- Store the correct number of recipes in `pinkLemonadeMaxNumber`.\n",
    "- You may use a hard-coded string for \"Pink Lemonade\", but not for member names."
   ]
  },
  {
   "cell_type": "code",
   "execution_count": 50,
   "metadata": {},
   "outputs": [],
   "source": [
    "# Your implementation:\n",
    "\n",
    "max = 0\n",
    "for name in memberNames:\n",
    "   if recipeCounts[name][\"Pink Lemonade\"] > max:\n",
    "       pinkLemonadeMaxMemberName = name\n",
    "       pinkLemonadeMaxNumber = recipeCounts[name][\"Pink Lemonade\"]\n"
   ]
  },
  {
   "cell_type": "markdown",
   "metadata": {},
   "source": [
    "**Action:** How many total recipes combined did all the members make?  Store the value in a variable called `totalRecipes`."
   ]
  },
  {
   "cell_type": "code",
   "execution_count": 51,
   "metadata": {},
   "outputs": [],
   "source": [
    "# Your implementation:\n",
    "\n",
    "totalRecipes = sum(recipeCounts[\"Alex\"].values()) + sum(recipeCounts[\"Ben\"].values()) + sum(recipeCounts[\"Clara\"].values())\n"
   ]
  },
  {
   "cell_type": "markdown",
   "metadata": {},
   "source": [
    "## Part K - The Final Results\n",
    "\n",
    "To achieve points in this part, you must determine the correct numbers.\n",
    "\n",
    "**Action:** Execute the following code block to report the final results."
   ]
  },
  {
   "cell_type": "code",
   "execution_count": 52,
   "metadata": {},
   "outputs": [
    {
     "name": "stdout",
     "output_type": "stream",
     "text": [
      "All\tTotal Beans:\t\t\t\t5,848\n",
      "All\tTotal Recipes Made:\t\t\t373\n",
      "All\tTotal 'Lemon Line' Beans:\t\t137\n",
      "Alex\tTotal Beans:\t\t\t\t1,854\n",
      "Ben\tRoot Beer Float Recipes Made:\t\t17\n",
      "\tMost Pink Lemonade Recipes Made:\t23 (by Clara)\n"
     ]
    }
   ],
   "source": [
    "# print the final results\n",
    "\n",
    "try:\n",
    "    print (\"All\\tTotal Beans:\\t\\t\\t\\t{:,}\".format (totalBeansAllMembers))\n",
    "except NameError:\n",
    "    print (\"Error: totalBeansAllMembers not found.\")\n",
    "    \n",
    "try:\n",
    "    print (\"All\\tTotal Recipes Made:\\t\\t\\t{:,}\".format(totalRecipes))\n",
    "except NameError:\n",
    "    print (\"Error: totalRecipes not found.\")\n",
    "\n",
    "try:\n",
    "    print (\"All\\tTotal 'Lemon Line' Beans:\\t\\t{:,}\".format (totalLemonLimeAllMembers))\n",
    "except NameError:\n",
    "    print (\"Error: totalLemonLimeAllMembers not found.\")\n",
    "\n",
    "try:\n",
    "    print (\"Alex\\tTotal Beans:\\t\\t\\t\\t{:,}\".format(totalBeansAlex))\n",
    "except NameError:\n",
    "    print (\"Error: totalBeansAlex not found.\")\n",
    "\n",
    "try:\n",
    "    print (\"Ben\\tRoot Beer Float Recipes Made:\\t\\t{:,}\".format (numRootBeerFloats))\n",
    "except NameError:\n",
    "    print (\"Error: numRootBeerFloats not found.\")\n",
    "    \n",
    "try:\n",
    "    print (\"\\tMost Pink Lemonade Recipes Made:\\t{:,} (by {})\".format (pinkLemonadeMaxNumber, pinkLemonadeMaxMemberName))\n",
    "except NameError:\n",
    "    print (\"Error: pinkLemonadeMaxNumber or pinkLemonadeMaxMemberName not found.\")"
   ]
  },
  {
   "cell_type": "code",
   "execution_count": null,
   "metadata": {},
   "outputs": [],
   "source": []
  }
 ],
 "metadata": {
  "kernelspec": {
   "display_name": "Python 3 (ipykernel)",
   "language": "python",
   "name": "python3"
  },
  "language_info": {
   "codemirror_mode": {
    "name": "ipython",
    "version": 3
   },
   "file_extension": ".py",
   "mimetype": "text/x-python",
   "name": "python",
   "nbconvert_exporter": "python",
   "pygments_lexer": "ipython3",
   "version": "3.11.5"
  }
 },
 "nbformat": 4,
 "nbformat_minor": 2
}
